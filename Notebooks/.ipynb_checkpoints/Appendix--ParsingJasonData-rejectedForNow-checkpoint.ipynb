{
 "cells": [
  {
   "cell_type": "code",
   "execution_count": 1,
   "metadata": {},
   "outputs": [],
   "source": [
    "import ijson, json\n",
    "import pandas as pd\n",
    "\n",
    "data_dir = '/Local/Users/bhima/temp/fda-case-study/Data/'\n",
    "notebook_dir = '/Local/Users/bhima/temp/fda-case-study/Data/'\n",
    "report_DIR = '/Local/Users/bhima/temp/fda-case-study/Report/'"
   ]
  },
  {
   "cell_type": "code",
   "execution_count": 2,
   "metadata": {},
   "outputs": [],
   "source": [
    "with open (data_dir+\"drug-event-0001-of-0034.json\", 'r') as json_file:\n",
    "    res_out = ijson.items(json_file, 'results')\n",
    "    results = list(res_out)"
   ]
  },
  {
   "cell_type": "code",
   "execution_count": 3,
   "metadata": {},
   "outputs": [
    {
     "data": {
      "text/plain": [
       "20"
      ]
     },
     "execution_count": 3,
     "metadata": {},
     "output_type": "execute_result"
    }
   ],
   "source": [
    "len(results[0][0].keys())"
   ]
  },
  {
   "cell_type": "code",
   "execution_count": 59,
   "metadata": {},
   "outputs": [
    {
     "name": "stdout",
     "output_type": "stream",
     "text": [
      "receivedate <class 'str'>\n",
      "20181105\n",
      "=====\n",
      "receivedateformat <class 'str'>\n",
      "102\n",
      "=====\n",
      "patient <class 'dict'>\n",
      "{'reaction': [{'reactionmeddrapt': 'Muscle spasms', 'reactionmeddraversionpt': '22.1', 'reactionoutcome': '1'}, {'reactionmeddrapt': 'Fatigue', 'reactionmeddraversionpt': '22.1', 'reactionoutcome': '1'}, {'reactionmeddrapt': 'Headache', 'reactionmeddraversionpt': '22.1', 'reactionoutcome': '6'}, {'reactionmeddrapt': 'Muscular weakness', 'reactionmeddraversionpt': '22.1', 'reactionoutcome': '2'}, {'reactionmeddrapt': 'Prehypertension', 'reactionmeddraversionpt': '22.1', 'reactionoutcome': '6'}, {'reactionmeddrapt': 'Blood pressure decreased', 'reactionmeddraversionpt': '22.1', 'reactionoutcome': '2'}], 'patientonsetage': '48', 'drug': [{'drugstartdateformat': '102', 'medicinalproduct': 'GILENYA', 'drugindication': 'MULTIPLE SCLEROSIS', 'drugcharacterization': '1', 'drugadministrationroute': '048', 'drugseparatedosagenumb': '1', 'drugstructuredosageunit': '003', 'openfda': {'manufacturer_name': ['Novartis Pharmaceuticals Corporation'], 'unii': ['G926EC510T'], 'product_type': ['HUMAN PRESCRIPTION DRUG'], 'rxcui': ['2045491', '2045493', '1012895', '1012899'], 'spl_set_id': ['cc9e1c8c-0e2b-44e2-878b-27057f786be9'], 'route': ['ORAL'], 'generic_name': ['FINGOLIMOD HCL'], 'brand_name': ['GILENYA'], 'product_ndc': ['0078-0965', '0078-0607'], 'substance_name': ['FINGOLIMOD HYDROCHLORIDE'], 'spl_id': ['242ee18e-e5e6-4ad3-a660-6691ea7c0816'], 'application_number': ['NDA022527'], 'package_ndc': ['0078-0965-89', '0078-0607-89', '0078-0607-51', '0078-0607-15']}, 'drugintervaldosageunitnumb': '1', 'drugstartdate': '20180618', 'drugdosagetext': '0.5 MG, QD', 'actiondrug': '4', 'activesubstance': {'activesubstancename': 'FINGOLIMOD HYDROCHLORIDE'}, 'drugintervaldosagedefinition': '804', 'drugauthorizationnumb': '022527', 'drugdosageform': 'CAPSULE, HARD', 'drugstructuredosagenumb': '.5'}], 'summary': {'narrativeincludeclinical': 'CASE EVENT DATE: 201812'}, 'patientsex': '2', 'patientonsetageunit': '801'}\n",
      "=====\n",
      "sender <class 'dict'>\n",
      "{'senderorganization': 'FDA-Public Use', 'sendertype': '2'}\n",
      "=====\n",
      "transmissiondate <class 'str'>\n",
      "20200122\n",
      "=====\n",
      "fulfillexpeditecriteria <class 'str'>\n",
      "2\n",
      "=====\n",
      "occurcountry <class 'str'>\n",
      "US\n",
      "=====\n",
      "receiptdate <class 'str'>\n",
      "20191217\n",
      "=====\n",
      "transmissiondateformat <class 'str'>\n",
      "102\n",
      "=====\n",
      "receiptdateformat <class 'str'>\n",
      "102\n",
      "=====\n",
      "primarysource <class 'dict'>\n",
      "{'reportercountry': 'US', 'qualification': '5'}\n",
      "=====\n",
      "duplicate <class 'str'>\n",
      "1\n",
      "=====\n",
      "reporttype <class 'str'>\n",
      "2\n",
      "=====\n",
      "reportduplicate <class 'dict'>\n",
      "{'duplicatenumb': 'PHEH2018US046065', 'duplicatesource': 'NOVARTIS'}\n",
      "=====\n",
      "receiver <class 'dict'>\n",
      "{'receiverorganization': 'FDA', 'receivertype': '6'}\n",
      "=====\n",
      "serious <class 'str'>\n",
      "2\n",
      "=====\n",
      "safetyreportversion <class 'str'>\n",
      "4\n",
      "=====\n",
      "companynumb <class 'str'>\n",
      "PHEH2018US046065\n",
      "=====\n",
      "safetyreportid <class 'str'>\n",
      "15588385\n",
      "=====\n",
      "primarysourcecountry <class 'str'>\n",
      "US\n",
      "=====\n"
     ]
    }
   ],
   "source": [
    "for k in results[0][0].keys():\n",
    "    print(k, type(results[0][0][k]))\n",
    "    print(results[0][0][k])\n",
    "    print('=====')"
   ]
  },
  {
   "cell_type": "code",
   "execution_count": 52,
   "metadata": {},
   "outputs": [
    {
     "data": {
      "text/plain": [
       "{'reaction': [{'reactionmeddrapt': 'Muscle spasms',\n",
       "   'reactionmeddraversionpt': '22.1',\n",
       "   'reactionoutcome': '1'},\n",
       "  {'reactionmeddrapt': 'Fatigue',\n",
       "   'reactionmeddraversionpt': '22.1',\n",
       "   'reactionoutcome': '1'},\n",
       "  {'reactionmeddrapt': 'Headache',\n",
       "   'reactionmeddraversionpt': '22.1',\n",
       "   'reactionoutcome': '6'},\n",
       "  {'reactionmeddrapt': 'Muscular weakness',\n",
       "   'reactionmeddraversionpt': '22.1',\n",
       "   'reactionoutcome': '2'},\n",
       "  {'reactionmeddrapt': 'Prehypertension',\n",
       "   'reactionmeddraversionpt': '22.1',\n",
       "   'reactionoutcome': '6'},\n",
       "  {'reactionmeddrapt': 'Blood pressure decreased',\n",
       "   'reactionmeddraversionpt': '22.1',\n",
       "   'reactionoutcome': '2'}],\n",
       " 'patientonsetage': '48',\n",
       " 'drug': [{'drugstartdateformat': '102',\n",
       "   'medicinalproduct': 'GILENYA',\n",
       "   'drugindication': 'MULTIPLE SCLEROSIS',\n",
       "   'drugcharacterization': '1',\n",
       "   'drugadministrationroute': '048',\n",
       "   'drugseparatedosagenumb': '1',\n",
       "   'drugstructuredosageunit': '003',\n",
       "   'openfda': {'manufacturer_name': ['Novartis Pharmaceuticals Corporation'],\n",
       "    'unii': ['G926EC510T'],\n",
       "    'product_type': ['HUMAN PRESCRIPTION DRUG'],\n",
       "    'rxcui': ['2045491', '2045493', '1012895', '1012899'],\n",
       "    'spl_set_id': ['cc9e1c8c-0e2b-44e2-878b-27057f786be9'],\n",
       "    'route': ['ORAL'],\n",
       "    'generic_name': ['FINGOLIMOD HCL'],\n",
       "    'brand_name': ['GILENYA'],\n",
       "    'product_ndc': ['0078-0965', '0078-0607'],\n",
       "    'substance_name': ['FINGOLIMOD HYDROCHLORIDE'],\n",
       "    'spl_id': ['242ee18e-e5e6-4ad3-a660-6691ea7c0816'],\n",
       "    'application_number': ['NDA022527'],\n",
       "    'package_ndc': ['0078-0965-89',\n",
       "     '0078-0607-89',\n",
       "     '0078-0607-51',\n",
       "     '0078-0607-15']},\n",
       "   'drugintervaldosageunitnumb': '1',\n",
       "   'drugstartdate': '20180618',\n",
       "   'drugdosagetext': '0.5 MG, QD',\n",
       "   'actiondrug': '4',\n",
       "   'activesubstance': {'activesubstancename': 'FINGOLIMOD HYDROCHLORIDE'},\n",
       "   'drugintervaldosagedefinition': '804',\n",
       "   'drugauthorizationnumb': '022527',\n",
       "   'drugdosageform': 'CAPSULE, HARD',\n",
       "   'drugstructuredosagenumb': '.5'}],\n",
       " 'summary': {'narrativeincludeclinical': 'CASE EVENT DATE: 201812'},\n",
       " 'patientsex': '2',\n",
       " 'patientonsetageunit': '801'}"
      ]
     },
     "execution_count": 52,
     "metadata": {},
     "output_type": "execute_result"
    }
   ],
   "source": [
    "results[0][0]['patient']"
   ]
  },
  {
   "cell_type": "code",
   "execution_count": 51,
   "metadata": {},
   "outputs": [
    {
     "data": {
      "text/plain": [
       "[{'reactionmeddrapt': 'Muscle spasms',\n",
       "  'reactionmeddraversionpt': '22.1',\n",
       "  'reactionoutcome': '1'},\n",
       " {'reactionmeddrapt': 'Fatigue',\n",
       "  'reactionmeddraversionpt': '22.1',\n",
       "  'reactionoutcome': '1'},\n",
       " {'reactionmeddrapt': 'Headache',\n",
       "  'reactionmeddraversionpt': '22.1',\n",
       "  'reactionoutcome': '6'},\n",
       " {'reactionmeddrapt': 'Muscular weakness',\n",
       "  'reactionmeddraversionpt': '22.1',\n",
       "  'reactionoutcome': '2'},\n",
       " {'reactionmeddrapt': 'Prehypertension',\n",
       "  'reactionmeddraversionpt': '22.1',\n",
       "  'reactionoutcome': '6'},\n",
       " {'reactionmeddrapt': 'Blood pressure decreased',\n",
       "  'reactionmeddraversionpt': '22.1',\n",
       "  'reactionoutcome': '2'}]"
      ]
     },
     "execution_count": 51,
     "metadata": {},
     "output_type": "execute_result"
    }
   ],
   "source": [
    "results[0][0]['patient']['reaction']"
   ]
  },
  {
   "cell_type": "code",
   "execution_count": 53,
   "metadata": {},
   "outputs": [
    {
     "data": {
      "text/plain": [
       "{'drugstartdateformat': '102',\n",
       " 'medicinalproduct': 'GILENYA',\n",
       " 'drugindication': 'MULTIPLE SCLEROSIS',\n",
       " 'drugcharacterization': '1',\n",
       " 'drugadministrationroute': '048',\n",
       " 'drugseparatedosagenumb': '1',\n",
       " 'drugstructuredosageunit': '003',\n",
       " 'openfda': {'manufacturer_name': ['Novartis Pharmaceuticals Corporation'],\n",
       "  'unii': ['G926EC510T'],\n",
       "  'product_type': ['HUMAN PRESCRIPTION DRUG'],\n",
       "  'rxcui': ['2045491', '2045493', '1012895', '1012899'],\n",
       "  'spl_set_id': ['cc9e1c8c-0e2b-44e2-878b-27057f786be9'],\n",
       "  'route': ['ORAL'],\n",
       "  'generic_name': ['FINGOLIMOD HCL'],\n",
       "  'brand_name': ['GILENYA'],\n",
       "  'product_ndc': ['0078-0965', '0078-0607'],\n",
       "  'substance_name': ['FINGOLIMOD HYDROCHLORIDE'],\n",
       "  'spl_id': ['242ee18e-e5e6-4ad3-a660-6691ea7c0816'],\n",
       "  'application_number': ['NDA022527'],\n",
       "  'package_ndc': ['0078-0965-89',\n",
       "   '0078-0607-89',\n",
       "   '0078-0607-51',\n",
       "   '0078-0607-15']},\n",
       " 'drugintervaldosageunitnumb': '1',\n",
       " 'drugstartdate': '20180618',\n",
       " 'drugdosagetext': '0.5 MG, QD',\n",
       " 'actiondrug': '4',\n",
       " 'activesubstance': {'activesubstancename': 'FINGOLIMOD HYDROCHLORIDE'},\n",
       " 'drugintervaldosagedefinition': '804',\n",
       " 'drugauthorizationnumb': '022527',\n",
       " 'drugdosageform': 'CAPSULE, HARD',\n",
       " 'drugstructuredosagenumb': '.5'}"
      ]
     },
     "execution_count": 53,
     "metadata": {},
     "output_type": "execute_result"
    }
   ],
   "source": [
    "results[0][0]['patient']['drug'][0]"
   ]
  },
  {
   "cell_type": "code",
   "execution_count": 54,
   "metadata": {},
   "outputs": [
    {
     "data": {
      "text/plain": [
       "{'manufacturer_name': ['Novartis Pharmaceuticals Corporation'],\n",
       " 'unii': ['G926EC510T'],\n",
       " 'product_type': ['HUMAN PRESCRIPTION DRUG'],\n",
       " 'rxcui': ['2045491', '2045493', '1012895', '1012899'],\n",
       " 'spl_set_id': ['cc9e1c8c-0e2b-44e2-878b-27057f786be9'],\n",
       " 'route': ['ORAL'],\n",
       " 'generic_name': ['FINGOLIMOD HCL'],\n",
       " 'brand_name': ['GILENYA'],\n",
       " 'product_ndc': ['0078-0965', '0078-0607'],\n",
       " 'substance_name': ['FINGOLIMOD HYDROCHLORIDE'],\n",
       " 'spl_id': ['242ee18e-e5e6-4ad3-a660-6691ea7c0816'],\n",
       " 'application_number': ['NDA022527'],\n",
       " 'package_ndc': ['0078-0965-89',\n",
       "  '0078-0607-89',\n",
       "  '0078-0607-51',\n",
       "  '0078-0607-15']}"
      ]
     },
     "execution_count": 54,
     "metadata": {},
     "output_type": "execute_result"
    }
   ],
   "source": [
    "results[0][0]['patient']['drug'][0]['openfda']"
   ]
  },
  {
   "cell_type": "code",
   "execution_count": 55,
   "metadata": {},
   "outputs": [
    {
     "data": {
      "text/plain": [
       "{'narrativeincludeclinical': 'CASE EVENT DATE: 201812'}"
      ]
     },
     "execution_count": 55,
     "metadata": {},
     "output_type": "execute_result"
    }
   ],
   "source": [
    "results[0][0]['patient']['summary']"
   ]
  },
  {
   "cell_type": "markdown",
   "metadata": {},
   "source": [
    "Next steps:\n",
    "-----------\n",
    "1. select fields that you think are important\n",
    "2. create a table in postgres for the important fields\n",
    "3. create a script to transfer the data from the json files to the postgres table\n",
    "4. start the eda using pandas and postgres. \n",
    "5. create a report. \n",
    "6. investigate a way to query specific fields using the api, to complete/fill the table with more historic data. \n"
   ]
  },
  {
   "cell_type": "code",
   "execution_count": null,
   "metadata": {},
   "outputs": [],
   "source": []
  },
  {
   "cell_type": "code",
   "execution_count": null,
   "metadata": {},
   "outputs": [],
   "source": []
  },
  {
   "cell_type": "code",
   "execution_count": null,
   "metadata": {},
   "outputs": [],
   "source": []
  },
  {
   "cell_type": "code",
   "execution_count": null,
   "metadata": {},
   "outputs": [],
   "source": []
  },
  {
   "cell_type": "code",
   "execution_count": null,
   "metadata": {},
   "outputs": [],
   "source": []
  },
  {
   "cell_type": "code",
   "execution_count": null,
   "metadata": {},
   "outputs": [],
   "source": []
  },
  {
   "cell_type": "code",
   "execution_count": 50,
   "metadata": {
    "scrolled": true
   },
   "outputs": [
    {
     "name": "stdout",
     "output_type": "stream",
     "text": [
      "heading: receivedate\n",
      "type: <class 'str'>\n",
      "content: 20181105\n",
      "---------------------------------------\n",
      "heading: receivedateformat\n",
      "type: <class 'str'>\n",
      "content: 102\n",
      "---------------------------------------\n",
      "heading: patient\n",
      "type: <class 'dict'>\n",
      "content: {'reaction': [{'reactionmeddrapt': 'Muscle spasms', 'reactionmeddraversionpt': '22.1', 'reactionoutcome': '1'}, {'reactionmeddrapt': 'Fatigue', 'reactionmeddraversionpt': '22.1', 'reactionoutcome': '1'}, {'reactionmeddrapt': 'Headache', 'reactionmeddraversionpt': '22.1', 'reactionoutcome': '6'}, {'reactionmeddrapt': 'Muscular weakness', 'reactionmeddraversionpt': '22.1', 'reactionoutcome': '2'}, {'reactionmeddrapt': 'Prehypertension', 'reactionmeddraversionpt': '22.1', 'reactionoutcome': '6'}, {'reactionmeddrapt': 'Blood pressure decreased', 'reactionmeddraversionpt': '22.1', 'reactionoutcome': '2'}], 'patientonsetage': '48', 'drug': [{'drugstartdateformat': '102', 'medicinalproduct': 'GILENYA', 'drugindication': 'MULTIPLE SCLEROSIS', 'drugcharacterization': '1', 'drugadministrationroute': '048', 'drugseparatedosagenumb': '1', 'drugstructuredosageunit': '003', 'openfda': {'manufacturer_name': ['Novartis Pharmaceuticals Corporation'], 'unii': ['G926EC510T'], 'product_type': ['HUMAN PRESCRIPTION DRUG'], 'rxcui': ['2045491', '2045493', '1012895', '1012899'], 'spl_set_id': ['cc9e1c8c-0e2b-44e2-878b-27057f786be9'], 'route': ['ORAL'], 'generic_name': ['FINGOLIMOD HCL'], 'brand_name': ['GILENYA'], 'product_ndc': ['0078-0965', '0078-0607'], 'substance_name': ['FINGOLIMOD HYDROCHLORIDE'], 'spl_id': ['242ee18e-e5e6-4ad3-a660-6691ea7c0816'], 'application_number': ['NDA022527'], 'package_ndc': ['0078-0965-89', '0078-0607-89', '0078-0607-51', '0078-0607-15']}, 'drugintervaldosageunitnumb': '1', 'drugstartdate': '20180618', 'drugdosagetext': '0.5 MG, QD', 'actiondrug': '4', 'activesubstance': {'activesubstancename': 'FINGOLIMOD HYDROCHLORIDE'}, 'drugintervaldosagedefinition': '804', 'drugauthorizationnumb': '022527', 'drugdosageform': 'CAPSULE, HARD', 'drugstructuredosagenumb': '.5'}], 'summary': {'narrativeincludeclinical': 'CASE EVENT DATE: 201812'}, 'patientsex': '2', 'patientonsetageunit': '801'}\n",
      "table\n",
      "---------------------------------------\n",
      "heading: sender\n",
      "type: <class 'dict'>\n",
      "content: {'senderorganization': 'FDA-Public Use', 'sendertype': '2'}\n",
      "table\n",
      "---------------------------------------\n",
      "heading: transmissiondate\n",
      "type: <class 'str'>\n",
      "content: 20200122\n",
      "---------------------------------------\n",
      "heading: fulfillexpeditecriteria\n",
      "type: <class 'str'>\n",
      "content: 2\n",
      "---------------------------------------\n",
      "heading: occurcountry\n",
      "type: <class 'str'>\n",
      "content: US\n",
      "---------------------------------------\n",
      "heading: receiptdate\n",
      "type: <class 'str'>\n",
      "content: 20191217\n",
      "---------------------------------------\n",
      "heading: transmissiondateformat\n",
      "type: <class 'str'>\n",
      "content: 102\n",
      "---------------------------------------\n",
      "heading: receiptdateformat\n",
      "type: <class 'str'>\n",
      "content: 102\n",
      "---------------------------------------\n",
      "heading: primarysource\n",
      "type: <class 'dict'>\n",
      "content: {'reportercountry': 'US', 'qualification': '5'}\n",
      "table\n",
      "---------------------------------------\n",
      "heading: duplicate\n",
      "type: <class 'str'>\n",
      "content: 1\n",
      "---------------------------------------\n",
      "heading: reporttype\n",
      "type: <class 'str'>\n",
      "content: 2\n",
      "---------------------------------------\n",
      "heading: reportduplicate\n",
      "type: <class 'dict'>\n",
      "content: {'duplicatenumb': 'PHEH2018US046065', 'duplicatesource': 'NOVARTIS'}\n",
      "table\n",
      "---------------------------------------\n",
      "heading: receiver\n",
      "type: <class 'dict'>\n",
      "content: {'receiverorganization': 'FDA', 'receivertype': '6'}\n",
      "table\n",
      "---------------------------------------\n",
      "heading: serious\n",
      "type: <class 'str'>\n",
      "content: 2\n",
      "---------------------------------------\n",
      "heading: safetyreportversion\n",
      "type: <class 'str'>\n",
      "content: 4\n",
      "---------------------------------------\n",
      "heading: companynumb\n",
      "type: <class 'str'>\n",
      "content: PHEH2018US046065\n",
      "---------------------------------------\n",
      "heading: safetyreportid\n",
      "type: <class 'str'>\n",
      "content: 15588385\n",
      "---------------------------------------\n",
      "heading: primarysourcecountry\n",
      "type: <class 'str'>\n",
      "content: US\n",
      "---------------------------------------\n"
     ]
    }
   ],
   "source": [
    "result_subtables = []\n",
    "\n",
    "columns = []\n",
    "\n",
    "for k in results[0][0].keys():\n",
    "    print(\"heading:\", k)\n",
    "    print(\"type:\", type(results[0][0][k]))\n",
    "    print(\"content:\", results[0][0][k])\n",
    "    if type(results[0][0][k]) == str:\n",
    "        #print('col_head')\n",
    "        columns.append(k)\n",
    "    \n",
    "    if type(results[0][0][k]) == dict:\n",
    "        print('table')\n",
    "        result_subtables.append(k)\n",
    "        \n",
    "    if type(results[0][0][k]) != dict and type(results[0][0][k]) != str:\n",
    "        print(\"OTHER\")\n",
    "    print(\"---------------------------------------\")"
   ]
  },
  {
   "cell_type": "code",
   "execution_count": 5,
   "metadata": {},
   "outputs": [
    {
     "name": "stdout",
     "output_type": "stream",
     "text": [
      "5\n",
      "['patient', 'sender', 'primarysource', 'reportduplicate', 'receiver']\n"
     ]
    }
   ],
   "source": [
    "print(len(result_subtables))\n",
    "print(result_subtables)"
   ]
  },
  {
   "cell_type": "code",
   "execution_count": 19,
   "metadata": {
    "scrolled": true
   },
   "outputs": [
    {
     "name": "stdout",
     "output_type": "stream",
     "text": [
      "TABLE Name: patient\n",
      "    heading: reaction\n",
      "    type: <class 'list'>\n",
      "---------------------------------------\n",
      "    heading: patientonsetage\n",
      "    type: <class 'str'>\n",
      "---------------------------------------\n",
      "    heading: drug\n",
      "    type: <class 'list'>\n",
      "---------------------------------------\n",
      "    heading: summary\n",
      "    type: <class 'dict'>\n",
      "---------------------------------------\n",
      "    heading: patientsex\n",
      "    type: <class 'str'>\n",
      "---------------------------------------\n",
      "    heading: patientonsetageunit\n",
      "    type: <class 'str'>\n",
      "---------------------------------------\n",
      "TABLE Name: sender\n",
      "    heading: senderorganization\n",
      "    type: <class 'str'>\n",
      "---------------------------------------\n",
      "    heading: sendertype\n",
      "    type: <class 'str'>\n",
      "---------------------------------------\n",
      "TABLE Name: primarysource\n",
      "    heading: reportercountry\n",
      "    type: <class 'str'>\n",
      "---------------------------------------\n",
      "    heading: qualification\n",
      "    type: <class 'str'>\n",
      "---------------------------------------\n",
      "TABLE Name: reportduplicate\n",
      "    heading: duplicatenumb\n",
      "    type: <class 'str'>\n",
      "---------------------------------------\n",
      "    heading: duplicatesource\n",
      "    type: <class 'str'>\n",
      "---------------------------------------\n",
      "TABLE Name: receiver\n",
      "    heading: receiverorganization\n",
      "    type: <class 'str'>\n",
      "---------------------------------------\n",
      "    heading: receivertype\n",
      "    type: <class 'str'>\n",
      "---------------------------------------\n"
     ]
    }
   ],
   "source": [
    "patient_subtables = []\n",
    "patient_headings = []\n",
    "\n",
    "for t in result_subtables:\n",
    "    print('TABLE Name:', t)\n",
    "    for k in results[0][0][t].keys():\n",
    "        print(\"    heading:\", k)\n",
    "        print(\"    type:\", type(results[0][0][t][k]))\n",
    "        #print(\"    content:\", results[0][0][t][k])\n",
    "        if t == 'patient' and type(results[0][0][t][k]) == list:\n",
    "            patient_subtables.append(k)\n",
    "        if t == 'patient' and type(results[0][0][t][k]) == str:\n",
    "            patient_headings.append(k)\n",
    "        \n",
    "        print(\"---------------------------------------\")"
   ]
  },
  {
   "cell_type": "code",
   "execution_count": 18,
   "metadata": {},
   "outputs": [
    {
     "data": {
      "text/plain": [
       "['reaction', 'drug']"
      ]
     },
     "execution_count": 18,
     "metadata": {},
     "output_type": "execute_result"
    }
   ],
   "source": [
    "patient_subtables"
   ]
  },
  {
   "cell_type": "code",
   "execution_count": 20,
   "metadata": {},
   "outputs": [
    {
     "data": {
      "text/plain": [
       "['patientonsetage', 'patientsex', 'patientonsetageunit']"
      ]
     },
     "execution_count": 20,
     "metadata": {},
     "output_type": "execute_result"
    }
   ],
   "source": [
    "patient_headings"
   ]
  },
  {
   "cell_type": "code",
   "execution_count": 31,
   "metadata": {
    "scrolled": false
   },
   "outputs": [
    {
     "name": "stdout",
     "output_type": "stream",
     "text": [
      "TABLE Name: patient\n",
      "    heading: reaction\n",
      "    type: <class 'list'>\n",
      "    content: [{'reactionmeddrapt': 'Muscle spasms', 'reactionmeddraversionpt': '22.1', 'reactionoutcome': '1'}, {'reactionmeddrapt': 'Fatigue', 'reactionmeddraversionpt': '22.1', 'reactionoutcome': '1'}, {'reactionmeddrapt': 'Headache', 'reactionmeddraversionpt': '22.1', 'reactionoutcome': '6'}, {'reactionmeddrapt': 'Muscular weakness', 'reactionmeddraversionpt': '22.1', 'reactionoutcome': '2'}, {'reactionmeddrapt': 'Prehypertension', 'reactionmeddraversionpt': '22.1', 'reactionoutcome': '6'}, {'reactionmeddrapt': 'Blood pressure decreased', 'reactionmeddraversionpt': '22.1', 'reactionoutcome': '2'}]\n",
      "               ---------------------------------------\n",
      "    type: <class 'dict'>\n",
      "    content: {'reactionmeddrapt': 'Muscle spasms', 'reactionmeddraversionpt': '22.1', 'reactionoutcome': '1'}\n",
      "    type: <class 'dict'>\n",
      "    content: {'reactionmeddrapt': 'Fatigue', 'reactionmeddraversionpt': '22.1', 'reactionoutcome': '1'}\n",
      "    type: <class 'dict'>\n",
      "    content: {'reactionmeddrapt': 'Headache', 'reactionmeddraversionpt': '22.1', 'reactionoutcome': '6'}\n",
      "    type: <class 'dict'>\n",
      "    content: {'reactionmeddrapt': 'Muscular weakness', 'reactionmeddraversionpt': '22.1', 'reactionoutcome': '2'}\n",
      "    type: <class 'dict'>\n",
      "    content: {'reactionmeddrapt': 'Prehypertension', 'reactionmeddraversionpt': '22.1', 'reactionoutcome': '6'}\n",
      "    type: <class 'dict'>\n",
      "    content: {'reactionmeddrapt': 'Blood pressure decreased', 'reactionmeddraversionpt': '22.1', 'reactionoutcome': '2'}\n",
      "---------------------------------------\n",
      "    heading: patientonsetage\n",
      "    type: <class 'str'>\n",
      "    content: 48\n",
      "---------------------------------------\n",
      "    heading: drug\n",
      "    type: <class 'list'>\n",
      "    content: [{'drugstartdateformat': '102', 'medicinalproduct': 'GILENYA', 'drugindication': 'MULTIPLE SCLEROSIS', 'drugcharacterization': '1', 'drugadministrationroute': '048', 'drugseparatedosagenumb': '1', 'drugstructuredosageunit': '003', 'openfda': {'manufacturer_name': ['Novartis Pharmaceuticals Corporation'], 'unii': ['G926EC510T'], 'product_type': ['HUMAN PRESCRIPTION DRUG'], 'rxcui': ['2045491', '2045493', '1012895', '1012899'], 'spl_set_id': ['cc9e1c8c-0e2b-44e2-878b-27057f786be9'], 'route': ['ORAL'], 'generic_name': ['FINGOLIMOD HCL'], 'brand_name': ['GILENYA'], 'product_ndc': ['0078-0965', '0078-0607'], 'substance_name': ['FINGOLIMOD HYDROCHLORIDE'], 'spl_id': ['242ee18e-e5e6-4ad3-a660-6691ea7c0816'], 'application_number': ['NDA022527'], 'package_ndc': ['0078-0965-89', '0078-0607-89', '0078-0607-51', '0078-0607-15']}, 'drugintervaldosageunitnumb': '1', 'drugstartdate': '20180618', 'drugdosagetext': '0.5 MG, QD', 'actiondrug': '4', 'activesubstance': {'activesubstancename': 'FINGOLIMOD HYDROCHLORIDE'}, 'drugintervaldosagedefinition': '804', 'drugauthorizationnumb': '022527', 'drugdosageform': 'CAPSULE, HARD', 'drugstructuredosagenumb': '.5'}]\n",
      "               ---------------------------------------\n",
      "    type: <class 'dict'>\n",
      "    content: {'drugstartdateformat': '102', 'medicinalproduct': 'GILENYA', 'drugindication': 'MULTIPLE SCLEROSIS', 'drugcharacterization': '1', 'drugadministrationroute': '048', 'drugseparatedosagenumb': '1', 'drugstructuredosageunit': '003', 'openfda': {'manufacturer_name': ['Novartis Pharmaceuticals Corporation'], 'unii': ['G926EC510T'], 'product_type': ['HUMAN PRESCRIPTION DRUG'], 'rxcui': ['2045491', '2045493', '1012895', '1012899'], 'spl_set_id': ['cc9e1c8c-0e2b-44e2-878b-27057f786be9'], 'route': ['ORAL'], 'generic_name': ['FINGOLIMOD HCL'], 'brand_name': ['GILENYA'], 'product_ndc': ['0078-0965', '0078-0607'], 'substance_name': ['FINGOLIMOD HYDROCHLORIDE'], 'spl_id': ['242ee18e-e5e6-4ad3-a660-6691ea7c0816'], 'application_number': ['NDA022527'], 'package_ndc': ['0078-0965-89', '0078-0607-89', '0078-0607-51', '0078-0607-15']}, 'drugintervaldosageunitnumb': '1', 'drugstartdate': '20180618', 'drugdosagetext': '0.5 MG, QD', 'actiondrug': '4', 'activesubstance': {'activesubstancename': 'FINGOLIMOD HYDROCHLORIDE'}, 'drugintervaldosagedefinition': '804', 'drugauthorizationnumb': '022527', 'drugdosageform': 'CAPSULE, HARD', 'drugstructuredosagenumb': '.5'}\n",
      "---------------------------------------\n",
      "    heading: summary\n",
      "    type: <class 'dict'>\n",
      "    content: {'narrativeincludeclinical': 'CASE EVENT DATE: 201812'}\n",
      "---------------------------------------\n",
      "    heading: patientsex\n",
      "    type: <class 'str'>\n",
      "    content: 2\n",
      "---------------------------------------\n",
      "    heading: patientonsetageunit\n",
      "    type: <class 'str'>\n",
      "    content: 801\n",
      "---------------------------------------\n",
      "TABLE Name: sender\n",
      "    heading: senderorganization\n",
      "    type: <class 'str'>\n",
      "    content: FDA-Public Use\n",
      "---------------------------------------\n",
      "    heading: sendertype\n",
      "    type: <class 'str'>\n",
      "    content: 2\n",
      "---------------------------------------\n",
      "TABLE Name: primarysource\n",
      "    heading: reportercountry\n",
      "    type: <class 'str'>\n",
      "    content: US\n",
      "---------------------------------------\n",
      "    heading: qualification\n",
      "    type: <class 'str'>\n",
      "    content: 5\n",
      "---------------------------------------\n",
      "TABLE Name: reportduplicate\n",
      "    heading: duplicatenumb\n",
      "    type: <class 'str'>\n",
      "    content: PHEH2018US046065\n",
      "---------------------------------------\n",
      "    heading: duplicatesource\n",
      "    type: <class 'str'>\n",
      "    content: NOVARTIS\n",
      "---------------------------------------\n",
      "TABLE Name: receiver\n",
      "    heading: receiverorganization\n",
      "    type: <class 'str'>\n",
      "    content: FDA\n",
      "---------------------------------------\n",
      "    heading: receivertype\n",
      "    type: <class 'str'>\n",
      "    content: 6\n",
      "---------------------------------------\n"
     ]
    }
   ],
   "source": [
    "\n",
    "for t in result_subtables:\n",
    "    print('TABLE Name:', t)\n",
    "    for k in results[0][0][t].keys():\n",
    "        print(\"    heading:\", k)\n",
    "        print(\"    type:\", type(results[0][0][t][k]))\n",
    "        print(\"    content:\", results[0][0][t][k])\n",
    "        \n",
    "        if type(results[0][0][t][k]) == list:\n",
    "            print(\"               ---------------------------------------\")\n",
    "            for i in range(len(results[0][0][t][k])):\n",
    "                print(\"    type:\", type(results[0][0][t][k][i]))\n",
    "                print(\"    content:\", results[0][0][t][k][i])\n",
    "                \n",
    "                if type(results[0][0][t][k][i]) == list:\n",
    "                    print(\"              +++++++++++++++++++++++++++++++++++++\")\n",
    "                    for j in range(len(results[0][0][t][k][i])):\n",
    "                        print(\"    type:\", type(results[0][0][t][k][i][j]))\n",
    "                        print(\"    content:\", results[0][0][t][k][i][j])\n",
    "                \n",
    "                \n",
    "        print(\"---------------------------------------\")"
   ]
  },
  {
   "cell_type": "code",
   "execution_count": 41,
   "metadata": {},
   "outputs": [
    {
     "data": {
      "text/plain": [
       "[{'reactionmeddrapt': 'Muscle spasms',\n",
       "  'reactionmeddraversionpt': '22.1',\n",
       "  'reactionoutcome': '1'},\n",
       " {'reactionmeddrapt': 'Fatigue',\n",
       "  'reactionmeddraversionpt': '22.1',\n",
       "  'reactionoutcome': '1'},\n",
       " {'reactionmeddrapt': 'Headache',\n",
       "  'reactionmeddraversionpt': '22.1',\n",
       "  'reactionoutcome': '6'},\n",
       " {'reactionmeddrapt': 'Muscular weakness',\n",
       "  'reactionmeddraversionpt': '22.1',\n",
       "  'reactionoutcome': '2'},\n",
       " {'reactionmeddrapt': 'Prehypertension',\n",
       "  'reactionmeddraversionpt': '22.1',\n",
       "  'reactionoutcome': '6'},\n",
       " {'reactionmeddrapt': 'Blood pressure decreased',\n",
       "  'reactionmeddraversionpt': '22.1',\n",
       "  'reactionoutcome': '2'}]"
      ]
     },
     "execution_count": 41,
     "metadata": {},
     "output_type": "execute_result"
    }
   ],
   "source": [
    "results[0][0]['patient']['reaction']"
   ]
  },
  {
   "cell_type": "code",
   "execution_count": 38,
   "metadata": {},
   "outputs": [
    {
     "data": {
      "text/plain": [
       "{'drugstartdateformat': '102',\n",
       " 'medicinalproduct': 'GILENYA',\n",
       " 'drugindication': 'MULTIPLE SCLEROSIS',\n",
       " 'drugcharacterization': '1',\n",
       " 'drugadministrationroute': '048',\n",
       " 'drugseparatedosagenumb': '1',\n",
       " 'drugstructuredosageunit': '003',\n",
       " 'openfda': {'manufacturer_name': ['Novartis Pharmaceuticals Corporation'],\n",
       "  'unii': ['G926EC510T'],\n",
       "  'product_type': ['HUMAN PRESCRIPTION DRUG'],\n",
       "  'rxcui': ['2045491', '2045493', '1012895', '1012899'],\n",
       "  'spl_set_id': ['cc9e1c8c-0e2b-44e2-878b-27057f786be9'],\n",
       "  'route': ['ORAL'],\n",
       "  'generic_name': ['FINGOLIMOD HCL'],\n",
       "  'brand_name': ['GILENYA'],\n",
       "  'product_ndc': ['0078-0965', '0078-0607'],\n",
       "  'substance_name': ['FINGOLIMOD HYDROCHLORIDE'],\n",
       "  'spl_id': ['242ee18e-e5e6-4ad3-a660-6691ea7c0816'],\n",
       "  'application_number': ['NDA022527'],\n",
       "  'package_ndc': ['0078-0965-89',\n",
       "   '0078-0607-89',\n",
       "   '0078-0607-51',\n",
       "   '0078-0607-15']},\n",
       " 'drugintervaldosageunitnumb': '1',\n",
       " 'drugstartdate': '20180618',\n",
       " 'drugdosagetext': '0.5 MG, QD',\n",
       " 'actiondrug': '4',\n",
       " 'activesubstance': {'activesubstancename': 'FINGOLIMOD HYDROCHLORIDE'},\n",
       " 'drugintervaldosagedefinition': '804',\n",
       " 'drugauthorizationnumb': '022527',\n",
       " 'drugdosageform': 'CAPSULE, HARD',\n",
       " 'drugstructuredosagenumb': '.5'}"
      ]
     },
     "execution_count": 38,
     "metadata": {},
     "output_type": "execute_result"
    }
   ],
   "source": [
    "results[0][0]['patient']['drug'][0]"
   ]
  },
  {
   "cell_type": "code",
   "execution_count": 39,
   "metadata": {},
   "outputs": [
    {
     "data": {
      "text/plain": [
       "{'manufacturer_name': ['Novartis Pharmaceuticals Corporation'],\n",
       " 'unii': ['G926EC510T'],\n",
       " 'product_type': ['HUMAN PRESCRIPTION DRUG'],\n",
       " 'rxcui': ['2045491', '2045493', '1012895', '1012899'],\n",
       " 'spl_set_id': ['cc9e1c8c-0e2b-44e2-878b-27057f786be9'],\n",
       " 'route': ['ORAL'],\n",
       " 'generic_name': ['FINGOLIMOD HCL'],\n",
       " 'brand_name': ['GILENYA'],\n",
       " 'product_ndc': ['0078-0965', '0078-0607'],\n",
       " 'substance_name': ['FINGOLIMOD HYDROCHLORIDE'],\n",
       " 'spl_id': ['242ee18e-e5e6-4ad3-a660-6691ea7c0816'],\n",
       " 'application_number': ['NDA022527'],\n",
       " 'package_ndc': ['0078-0965-89',\n",
       "  '0078-0607-89',\n",
       "  '0078-0607-51',\n",
       "  '0078-0607-15']}"
      ]
     },
     "execution_count": 39,
     "metadata": {},
     "output_type": "execute_result"
    }
   ],
   "source": [
    "results[0][0]['patient']['drug'][0]['openfda']"
   ]
  },
  {
   "cell_type": "code",
   "execution_count": 43,
   "metadata": {},
   "outputs": [
    {
     "data": {
      "text/plain": [
       "dict_keys(['reaction', 'patientonsetage', 'drug', 'summary', 'patientsex', 'patientonsetageunit'])"
      ]
     },
     "execution_count": 43,
     "metadata": {},
     "output_type": "execute_result"
    }
   ],
   "source": [
    "results[0][0]['patient'].keys()"
   ]
  },
  {
   "cell_type": "code",
   "execution_count": 44,
   "metadata": {},
   "outputs": [
    {
     "data": {
      "text/plain": [
       "{'narrativeincludeclinical': 'CASE EVENT DATE: 201812'}"
      ]
     },
     "execution_count": 44,
     "metadata": {},
     "output_type": "execute_result"
    }
   ],
   "source": [
    "results[0][0]['patient']['summary']"
   ]
  },
  {
   "cell_type": "code",
   "execution_count": 47,
   "metadata": {},
   "outputs": [
    {
     "name": "stdout",
     "output_type": "stream",
     "text": [
      "patientonsetage 48\n",
      "summary {'narrativeincludeclinical': 'CASE EVENT DATE: 201812'}\n",
      "patientsex 2\n",
      "patientonsetageunit 801\n"
     ]
    }
   ],
   "source": [
    "for key in results[0][0]['patient'].keys():\n",
    "    if type(results[0][0]['patient'][key]) != list:\n",
    " \n",
    "        print(key, results[0][0]['patient'][key])"
   ]
  },
  {
   "cell_type": "code",
   "execution_count": 49,
   "metadata": {},
   "outputs": [
    {
     "name": "stdout",
     "output_type": "stream",
     "text": [
      "receivedate\n",
      "receivedateformat\n",
      "patient\n",
      "sender\n",
      "transmissiondate\n",
      "fulfillexpeditecriteria\n",
      "occurcountry\n",
      "receiptdate\n",
      "transmissiondateformat\n",
      "receiptdateformat\n",
      "primarysource\n",
      "duplicate\n",
      "reporttype\n",
      "reportduplicate\n",
      "receiver\n",
      "serious\n",
      "safetyreportversion\n",
      "companynumb\n",
      "safetyreportid\n",
      "primarysourcecountry\n"
     ]
    }
   ],
   "source": []
  },
  {
   "cell_type": "code",
   "execution_count": null,
   "metadata": {},
   "outputs": [],
   "source": []
  }
 ],
 "metadata": {
  "kernelspec": {
   "display_name": "Python 3",
   "language": "python",
   "name": "python3"
  },
  "language_info": {
   "codemirror_mode": {
    "name": "ipython",
    "version": 3
   },
   "file_extension": ".py",
   "mimetype": "text/x-python",
   "name": "python",
   "nbconvert_exporter": "python",
   "pygments_lexer": "ipython3",
   "version": "3.7.6"
  }
 },
 "nbformat": 4,
 "nbformat_minor": 4
}
