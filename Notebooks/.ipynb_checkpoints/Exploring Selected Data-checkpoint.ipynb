{
 "cells": [
  {
   "cell_type": "code",
   "execution_count": 1,
   "metadata": {},
   "outputs": [],
   "source": [
    "import os\n",
    "import pandas as pd\n",
    "import numpy as np\n",
    "from sqlalchemy import create_engine\n",
    "from sqlalchemy.types import Integer, Text, String, Float, DateTime\n",
    "from datetime import datetime"
   ]
  },
  {
   "cell_type": "code",
   "execution_count": 2,
   "metadata": {},
   "outputs": [],
   "source": [
    "def build_DB_URI(db_type, db_lib, user_id, password, db_name,  db_location='localhost', port='5432' ):\n",
    "    '''\n",
    "        A method which generates a DB_URI for SQL-Alchemey. Assumption that this will be\n",
    "        used with Postgresql, however written to be generic.\n",
    "\n",
    "        arg:\n",
    "\n",
    "        db_type     --> the type of database, e.g 'postgres', 'mysql'\n",
    "\n",
    "        db_lib      --> the appropriate sql-alchemy plughin for \n",
    "                        db_type, e.g 'psycopg2' or 'pymysql'\n",
    "\n",
    "        user_id     --> the user name for the database, who has \n",
    "                        appropriate permissions\n",
    "\n",
    "        password    --> the password for the db-user-id.\n",
    "        db_name     --> the name of the db, e.g. 'esomeprazole'\n",
    "        db_location --> the address / URL for the database. DEFAULT = localhost\n",
    "        port        --> the port for the database. DEFAULT = 5432\n",
    "        \n",
    "        returns:\n",
    "        db_URI     --> The URI for SQL-Alchemy of the form:\n",
    "                       postgres+psycop2://user_id:password@db_location:5432/db_name\n",
    "\n",
    "    '''\n",
    "    \n",
    "    db_URI = db_type+'+'+db_lib+'://'+user_id+':'+password+'@'+db_location+':'+port+'/'+db_name\n",
    "\n",
    "    return db_URI"
   ]
  },
  {
   "cell_type": "code",
   "execution_count": 3,
   "metadata": {},
   "outputs": [],
   "source": [
    "db_type = 'postgres'\n",
    "db_lib = 'psycopg2'\n",
    "user_id = 'bhima'\n",
    "password= ''\n",
    "db_name = 'openfda'\n",
    "\n",
    "db_URI = build_DB_URI(db_type, db_lib, user_id, password, db_name)\n",
    "db_engine = create_engine(db_URI, echo=False)\n",
    "db_engine.connect()\n",
    "connection= db_engine.connect()"
   ]
  },
  {
   "cell_type": "code",
   "execution_count": 6,
   "metadata": {},
   "outputs": [],
   "source": [
    "sql_query = 'SELECT  m.safetyreportid, m.activesubstancename, m.openfda_generic_name, m.reactionmeddrapt, m.primarysource_reportercountry FROM merged_table m ORDER BY  m.safetyreportid;'"
   ]
  },
  {
   "cell_type": "code",
   "execution_count": 7,
   "metadata": {},
   "outputs": [],
   "source": [
    "df = pd.read_sql(sql_query, \n",
    "                     con=db_engine)"
   ]
  },
  {
   "cell_type": "code",
   "execution_count": null,
   "metadata": {},
   "outputs": [],
   "source": [
    "df.to_sql('drug_reaction_and_country',\n",
    "                    db_engine,\n",
    "                    if_exists='replace',\n",
    "                    schema='public',\n",
    "                    index=False,\n",
    "                    chunksize=1000) "
   ]
  },
  {
   "cell_type": "code",
   "execution_count": null,
   "metadata": {},
   "outputs": [],
   "source": [
    "df.describe()"
   ]
  },
  {
   "cell_type": "code",
   "execution_count": null,
   "metadata": {},
   "outputs": [],
   "source": []
  },
  {
   "cell_type": "code",
   "execution_count": null,
   "metadata": {},
   "outputs": [],
   "source": [
    "drug_and_raction_grouped = df.groupby(['reactionmeddrapt', 'activesubstancename'])\n",
    "print(drug_and_raction_grouped.agg(np.size))"
   ]
  },
  {
   "cell_type": "code",
   "execution_count": null,
   "metadata": {},
   "outputs": [],
   "source": [
    "drug_and_raction_df = df[['activesubstancename', 'reactionmeddrapt']].drop_duplicates()"
   ]
  },
  {
   "cell_type": "code",
   "execution_count": null,
   "metadata": {},
   "outputs": [],
   "source": [
    "drug_and_raction_df.describe()"
   ]
  },
  {
   "cell_type": "code",
   "execution_count": null,
   "metadata": {},
   "outputs": [],
   "source": [
    "drug_and_raction_df.groupby(['reactionmeddrapt', 'activesubstancename']).groups"
   ]
  },
  {
   "cell_type": "code",
   "execution_count": null,
   "metadata": {},
   "outputs": [],
   "source": []
  },
  {
   "cell_type": "code",
   "execution_count": null,
   "metadata": {},
   "outputs": [],
   "source": []
  },
  {
   "cell_type": "code",
   "execution_count": null,
   "metadata": {},
   "outputs": [],
   "source": [
    "genericname_and_raction_grouped = df.groupby(['activesubstancename', 'openfda_generic_name'])\n",
    "print(genericname_and_raction_grouped.agg(np.size))"
   ]
  },
  {
   "cell_type": "code",
   "execution_count": null,
   "metadata": {},
   "outputs": [],
   "source": [
    "genericname_and_raction_df = df[['activesubstancename', 'openfda_generic_name']].drop_duplicates()"
   ]
  },
  {
   "cell_type": "code",
   "execution_count": null,
   "metadata": {},
   "outputs": [],
   "source": [
    "genericname_and_raction_df.describe()"
   ]
  },
  {
   "cell_type": "code",
   "execution_count": null,
   "metadata": {},
   "outputs": [],
   "source": [
    "genericname_and_raction_df.groupby(['reactionmeddrapt', 'openfda_generic_name']).groups"
   ]
  },
  {
   "cell_type": "code",
   "execution_count": null,
   "metadata": {},
   "outputs": [],
   "source": []
  },
  {
   "cell_type": "code",
   "execution_count": null,
   "metadata": {},
   "outputs": [],
   "source": [
    "genericname_and_raction_grouped = df.groupby(['reactionmeddrapt', 'primarysource_reportercountry'])\n",
    "print(genericname_and_raction_grouped.agg(np.size))"
   ]
  },
  {
   "cell_type": "code",
   "execution_count": 12,
   "metadata": {},
   "outputs": [],
   "source": [
    "country_and_reaction_df = df[['reactionmeddrapt', 'primarysource_reportercountry']].drop_duplicates()"
   ]
  },
  {
   "cell_type": "code",
   "execution_count": 13,
   "metadata": {},
   "outputs": [
    {
     "data": {
      "text/html": [
       "<div>\n",
       "<style scoped>\n",
       "    .dataframe tbody tr th:only-of-type {\n",
       "        vertical-align: middle;\n",
       "    }\n",
       "\n",
       "    .dataframe tbody tr th {\n",
       "        vertical-align: top;\n",
       "    }\n",
       "\n",
       "    .dataframe thead th {\n",
       "        text-align: right;\n",
       "    }\n",
       "</style>\n",
       "<table border=\"1\" class=\"dataframe\">\n",
       "  <thead>\n",
       "    <tr style=\"text-align: right;\">\n",
       "      <th></th>\n",
       "      <th>reactionmeddrapt</th>\n",
       "      <th>primarysource_reportercountry</th>\n",
       "    </tr>\n",
       "  </thead>\n",
       "  <tbody>\n",
       "    <tr>\n",
       "      <th>count</th>\n",
       "      <td>54110</td>\n",
       "      <td>54110</td>\n",
       "    </tr>\n",
       "    <tr>\n",
       "      <th>unique</th>\n",
       "      <td>9613</td>\n",
       "      <td>141</td>\n",
       "    </tr>\n",
       "    <tr>\n",
       "      <th>top</th>\n",
       "      <td>Pyrexia</td>\n",
       "      <td>US</td>\n",
       "    </tr>\n",
       "    <tr>\n",
       "      <th>freq</th>\n",
       "      <td>82</td>\n",
       "      <td>7771</td>\n",
       "    </tr>\n",
       "  </tbody>\n",
       "</table>\n",
       "</div>"
      ],
      "text/plain": [
       "       reactionmeddrapt primarysource_reportercountry\n",
       "count             54110                         54110\n",
       "unique             9613                           141\n",
       "top             Pyrexia                            US\n",
       "freq                 82                          7771"
      ]
     },
     "execution_count": 13,
     "metadata": {},
     "output_type": "execute_result"
    }
   ],
   "source": [
    "\n",
    "country_and_reaction_df.describe()"
   ]
  },
  {
   "cell_type": "code",
   "execution_count": null,
   "metadata": {},
   "outputs": [],
   "source": [
    "country_and_reaction_df.groupby(['reactionmeddrapt', 'primarysource_reportercountry']).groups"
   ]
  }
 ],
 "metadata": {
  "kernelspec": {
   "display_name": "Python 3",
   "language": "python",
   "name": "python3"
  },
  "language_info": {
   "codemirror_mode": {
    "name": "ipython",
    "version": 3
   },
   "file_extension": ".py",
   "mimetype": "text/x-python",
   "name": "python",
   "nbconvert_exporter": "python",
   "pygments_lexer": "ipython3",
   "version": "3.7.6"
  }
 },
 "nbformat": 4,
 "nbformat_minor": 4
}
