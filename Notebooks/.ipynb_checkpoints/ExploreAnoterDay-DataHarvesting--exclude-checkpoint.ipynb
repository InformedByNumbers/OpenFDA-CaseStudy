{
 "cells": [
  {
   "cell_type": "code",
   "execution_count": 1,
   "metadata": {
    "collapsed": false,
    "execution": {
     "iopub.execute_input": "2020-05-02T12:03:00.340Z",
     "iopub.status.busy": "2020-05-02T12:03:00.334Z",
     "iopub.status.idle": "2020-05-02T12:03:00.346Z",
     "shell.execute_reply": "2020-05-02T12:03:00.359Z"
    },
    "jupyter": {
     "outputs_hidden": false,
     "source_hidden": false
    },
    "nteract": {
     "transient": {
      "deleting": false
     }
    }
   },
   "outputs": [],
   "source": [
    "from typing import Iterator, Dict, Any\n",
    "from urllib.parse import urlencode\n",
    "import requests"
   ]
  },
  {
   "cell_type": "code",
   "execution_count": 14,
   "metadata": {
    "collapsed": true,
    "execution": {
     "iopub.execute_input": "2020-05-02T12:05:31.992Z",
     "iopub.status.busy": "2020-05-02T12:05:31.989Z",
     "iopub.status.idle": "2020-05-02T12:05:31.998Z",
     "shell.execute_reply": "2020-05-02T12:05:32.006Z"
    },
    "jupyter": {
     "outputs_hidden": true,
     "source_hidden": false
    },
    "nteract": {
     "transient": {
      "deleting": false
     }
    },
    "outputExpanded": false
   },
   "outputs": [],
   "source": [
    "def iter_beers_from_api(page_size: int = 5) -> Iterator[Dict[str, Any]]:\n",
    "    session = requests.Session()\n",
    "    page = 1\n",
    "    while True:\n",
    "        response = session.get('https://api.punkapi.com/v2/beersxx?' + urlencode({\n",
    "            'page': page,\n",
    "            'per_page': page_size\n",
    "        }))\n",
    "        response.raise_for_status()\n",
    "\n",
    "        data = response.json()\n",
    "        if not data:\n",
    "            break\n",
    "\n",
    "        yield from data\n",
    "\n",
    "        page += 1"
   ]
  },
  {
   "cell_type": "code",
   "execution_count": 15,
   "metadata": {
    "collapsed": true,
    "execution": {
     "iopub.execute_input": "2020-05-02T12:05:34.691Z",
     "iopub.status.busy": "2020-05-02T12:05:34.689Z",
     "iopub.status.idle": "2020-05-02T12:05:34.696Z",
     "shell.execute_reply": "2020-05-02T12:05:34.702Z"
    },
    "jupyter": {
     "outputs_hidden": true,
     "source_hidden": false
    },
    "nteract": {
     "transient": {
      "deleting": false
     }
    },
    "outputExpanded": false
   },
   "outputs": [],
   "source": [
    " beers = iter_beers_from_api()"
   ]
  },
  {
   "cell_type": "code",
   "execution_count": 16,
   "metadata": {
    "collapsed": true,
    "execution": {
     "iopub.execute_input": "2020-05-02T12:05:36.759Z",
     "iopub.status.busy": "2020-05-02T12:05:36.755Z",
     "iopub.status.idle": "2020-05-02T12:05:37.158Z",
     "shell.execute_reply": "2020-05-02T12:05:37.161Z"
    },
    "jupyter": {
     "outputs_hidden": true,
     "source_hidden": false
    },
    "nteract": {
     "transient": {
      "deleting": false
     }
    },
    "outputExpanded": false
   },
   "outputs": [
    {
     "ename": "HTTPError",
     "evalue": "404 Client Error: Not Found for url: https://api.punkapi.com/v2/beersxx?page=1&per_page=5",
     "output_type": "error",
     "traceback": [
      "\u001b[0;31m---------------------------------------------------------------------------\u001b[0m",
      "\u001b[0;31mHTTPError\u001b[0m                                 Traceback (most recent call last)",
      "\u001b[0;32m<ipython-input-16-8fa3fa1bc7cf>\u001b[0m in \u001b[0;36m<module>\u001b[0;34m\u001b[0m\n\u001b[0;32m----> 1\u001b[0;31m \u001b[0mnext\u001b[0m\u001b[0;34m(\u001b[0m\u001b[0mbeers\u001b[0m\u001b[0;34m)\u001b[0m\u001b[0;34m\u001b[0m\u001b[0;34m\u001b[0m\u001b[0m\n\u001b[0m",
      "\u001b[0;32m<ipython-input-14-4433d73433af>\u001b[0m in \u001b[0;36miter_beers_from_api\u001b[0;34m(page_size)\u001b[0m\n\u001b[1;32m      7\u001b[0m             \u001b[0;34m'per_page'\u001b[0m\u001b[0;34m:\u001b[0m \u001b[0mpage_size\u001b[0m\u001b[0;34m\u001b[0m\u001b[0;34m\u001b[0m\u001b[0m\n\u001b[1;32m      8\u001b[0m         }))\n\u001b[0;32m----> 9\u001b[0;31m         \u001b[0mresponse\u001b[0m\u001b[0;34m.\u001b[0m\u001b[0mraise_for_status\u001b[0m\u001b[0;34m(\u001b[0m\u001b[0;34m)\u001b[0m\u001b[0;34m\u001b[0m\u001b[0;34m\u001b[0m\u001b[0m\n\u001b[0m\u001b[1;32m     10\u001b[0m \u001b[0;34m\u001b[0m\u001b[0m\n\u001b[1;32m     11\u001b[0m         \u001b[0mdata\u001b[0m \u001b[0;34m=\u001b[0m \u001b[0mresponse\u001b[0m\u001b[0;34m.\u001b[0m\u001b[0mjson\u001b[0m\u001b[0;34m(\u001b[0m\u001b[0;34m)\u001b[0m\u001b[0;34m\u001b[0m\u001b[0;34m\u001b[0m\u001b[0m\n",
      "\u001b[0;32m/anaconda3/lib/python3.7/site-packages/requests/models.py\u001b[0m in \u001b[0;36mraise_for_status\u001b[0;34m(self)\u001b[0m\n\u001b[1;32m    938\u001b[0m \u001b[0;34m\u001b[0m\u001b[0m\n\u001b[1;32m    939\u001b[0m         \u001b[0;32mif\u001b[0m \u001b[0mhttp_error_msg\u001b[0m\u001b[0;34m:\u001b[0m\u001b[0;34m\u001b[0m\u001b[0;34m\u001b[0m\u001b[0m\n\u001b[0;32m--> 940\u001b[0;31m             \u001b[0;32mraise\u001b[0m \u001b[0mHTTPError\u001b[0m\u001b[0;34m(\u001b[0m\u001b[0mhttp_error_msg\u001b[0m\u001b[0;34m,\u001b[0m \u001b[0mresponse\u001b[0m\u001b[0;34m=\u001b[0m\u001b[0mself\u001b[0m\u001b[0;34m)\u001b[0m\u001b[0;34m\u001b[0m\u001b[0;34m\u001b[0m\u001b[0m\n\u001b[0m\u001b[1;32m    941\u001b[0m \u001b[0;34m\u001b[0m\u001b[0m\n\u001b[1;32m    942\u001b[0m     \u001b[0;32mdef\u001b[0m \u001b[0mclose\u001b[0m\u001b[0;34m(\u001b[0m\u001b[0mself\u001b[0m\u001b[0;34m)\u001b[0m\u001b[0;34m:\u001b[0m\u001b[0;34m\u001b[0m\u001b[0;34m\u001b[0m\u001b[0m\n",
      "\u001b[0;31mHTTPError\u001b[0m: 404 Client Error: Not Found for url: https://api.punkapi.com/v2/beersxx?page=1&per_page=5"
     ]
    }
   ],
   "source": [
    "next(beers)"
   ]
  },
  {
   "cell_type": "code",
   "execution_count": 22,
   "metadata": {
    "collapsed": true,
    "execution": {
     "iopub.execute_input": "2020-05-02T12:08:37.756Z",
     "iopub.status.busy": "2020-05-02T12:08:37.749Z",
     "iopub.status.idle": "2020-05-02T12:08:37.765Z",
     "shell.execute_reply": "2020-05-02T12:08:37.777Z"
    },
    "jupyter": {
     "outputs_hidden": true,
     "source_hidden": false
    },
    "nteract": {
     "transient": {
      "deleting": false
     }
    },
    "outputExpanded": false
   },
   "outputs": [],
   "source": [
    "def iter_fda_events_from_api(page_size: int = 5) -> Iterator[Dict[str, Any]]:\n",
    "    session = requests.Session()\n",
    "    limit = 1\n",
    "    while True:\n",
    "        response = session.get('https://api.fda.gov/drug/event.json?' + urlencode({\n",
    "            'limit': limit,\n",
    "            #'per_page': page_size\n",
    "        }))\n",
    "        response.raise_for_status()\n",
    "\n",
    "        data = response.json()\n",
    "        if not data:\n",
    "            break\n",
    "\n",
    "        yield from data\n",
    "\n",
    "        page += 1"
   ]
  },
  {
   "cell_type": "code",
   "execution_count": 23,
   "metadata": {
    "collapsed": true,
    "execution": {
     "iopub.execute_input": "2020-05-02T12:08:39.626Z",
     "iopub.status.busy": "2020-05-02T12:08:39.620Z",
     "iopub.status.idle": "2020-05-02T12:08:39.635Z",
     "shell.execute_reply": "2020-05-02T12:08:39.640Z"
    },
    "jupyter": {
     "outputs_hidden": true,
     "source_hidden": false
    },
    "nteract": {
     "transient": {
      "deleting": false
     }
    },
    "outputExpanded": false
   },
   "outputs": [],
   "source": [
    "event = iter_fda_events_from_api()"
   ]
  },
  {
   "cell_type": "code",
   "execution_count": 24,
   "metadata": {
    "collapsed": true,
    "execution": {
     "iopub.execute_input": "2020-05-02T12:08:41.147Z",
     "iopub.status.busy": "2020-05-02T12:08:41.142Z",
     "iopub.status.idle": "2020-05-02T12:08:41.587Z",
     "shell.execute_reply": "2020-05-02T12:08:41.600Z"
    },
    "jupyter": {
     "outputs_hidden": true,
     "source_hidden": false
    },
    "nteract": {
     "transient": {
      "deleting": false
     }
    },
    "outputExpanded": false
   },
   "outputs": [
    {
     "data": {
      "text/plain": [
       "'meta'"
      ]
     },
     "execution_count": 24,
     "metadata": {},
     "output_type": "execute_result"
    }
   ],
   "source": [
    "next(event)"
   ]
  },
  {
   "cell_type": "code",
   "execution_count": 25,
   "metadata": {
    "collapsed": true,
    "execution": {
     "iopub.execute_input": "2020-05-02T12:11:14.179Z",
     "iopub.status.busy": "2020-05-02T12:11:14.173Z",
     "iopub.status.idle": "2020-05-02T12:11:14.188Z",
     "shell.execute_reply": "2020-05-02T12:11:14.191Z"
    },
    "jupyter": {
     "outputs_hidden": true,
     "source_hidden": false
    },
    "nteract": {
     "transient": {
      "deleting": false
     }
    },
    "outputExpanded": false
   },
   "outputs": [
    {
     "data": {
      "text/plain": [
       "'results'"
      ]
     },
     "execution_count": 25,
     "metadata": {},
     "output_type": "execute_result"
    }
   ],
   "source": [
    "next(event)"
   ]
  },
  {
   "cell_type": "code",
   "execution_count": null,
   "metadata": {
    "collapsed": true,
    "jupyter": {
     "outputs_hidden": true,
     "source_hidden": false
    },
    "nteract": {
     "transient": {
      "deleting": false
     }
    },
    "outputExpanded": false
   },
   "outputs": [],
   "source": [
    "import requests\n",
    "i = 1\n",
    "#while i>=34:\n",
    "URL = \"https://download.open.fda.gov/drug/event/2019q4/drug-event-000\"+i+\"-of-0034.json.zip\"\n",
    "#i+=1\n",
    "data = requests.get(URL).json()\n",
    "\n",
    "  "
   ]
  },
  {
   "cell_type": "code",
   "execution_count": 30,
   "metadata": {
    "collapsed": true,
    "execution": {
     "iopub.execute_input": "2020-05-02T12:42:10.959Z",
     "iopub.status.busy": "2020-05-02T12:42:10.954Z",
     "iopub.status.idle": "2020-05-02T12:42:29.519Z",
     "shell.execute_reply": "2020-05-02T12:42:29.514Z"
    },
    "jupyter": {
     "outputs_hidden": true,
     "source_hidden": false
    },
    "nteract": {
     "transient": {
      "deleting": false
     }
    },
    "outputExpanded": false
   },
   "outputs": [],
   "source": [
    "import requests, zipfile, io\n",
    "zip_file_url = \"https://download.open.fda.gov/drug/event/2019q4/drug-event-0001-of-0034.json.zip\"\n",
    "r = requests.get(zip_file_url)\n",
    "z = zipfile.ZipFile(io.BytesIO(r.content))\n",
    "z.extractall()"
   ]
  },
  {
   "cell_type": "code",
   "execution_count": 31,
   "metadata": {
    "collapsed": true,
    "execution": {
     "iopub.execute_input": "2020-05-02T12:42:54.272Z",
     "iopub.status.busy": "2020-05-02T12:42:54.267Z",
     "iopub.status.idle": "2020-05-02T12:42:54.279Z",
     "shell.execute_reply": "2020-05-02T12:42:54.285Z"
    },
    "jupyter": {
     "outputs_hidden": true,
     "source_hidden": false
    },
    "nteract": {
     "transient": {
      "deleting": false
     }
    },
    "outputExpanded": false
   },
   "outputs": [],
   "source": [
    "import pandas"
   ]
  },
  {
   "cell_type": "code",
   "execution_count": 29,
   "metadata": {
    "collapsed": true,
    "execution": {
     "iopub.execute_input": "2020-05-02T12:25:08.583Z",
     "iopub.status.busy": "2020-05-02T12:25:08.578Z",
     "iopub.status.idle": "2020-05-02T12:25:09.051Z",
     "shell.execute_reply": "2020-05-02T12:25:09.070Z"
    },
    "jupyter": {
     "outputs_hidden": true,
     "source_hidden": false
    },
    "nteract": {
     "transient": {
      "deleting": false
     }
    },
    "outputExpanded": false
   },
   "outputs": [
    {
     "name": "stdout",
     "output_type": "stream",
     "text": [
      "{'receiptdateformat': '102', 'receiver': None, 'companynumb': 'HQWYE821915MAR04', 'receivedateformat': '102', 'primarysource': None, 'seriousnessother': '1', 'transmissiondateformat': '102', 'fulfillexpeditecriteria': '1', 'safetyreportid': '4322505-4', 'sender': {'senderorganization': 'FDA-Public Use'}, 'receivedate': '20040319', 'patient': {'patientonsetage': '56', 'reaction': [{'reactionmeddrapt': 'ARTHRALGIA'}, {'reactionmeddrapt': 'OEDEMA PERIPHERAL'}, {'reactionmeddrapt': 'PURPURA'}], 'patientonsetageunit': '801', 'patientsex': '1', 'drug': [{'drugstartdateformat': '102', 'drugindication': 'PYELONEPHRITIS', 'drugadministrationroute': '048', 'drugtreatmentduration': '4', 'drugcharacterization': '1', 'drugstartdate': '20031227', 'drugenddateformat': '102', 'drugtreatmentdurationunit': '804', 'drugdosagetext': 'ORAL', 'drugauthorizationnumb': '50621', 'drugenddate': '20031230', 'medicinalproduct': 'OROKEN (CEFIXIME, UNSPEC)'}, {'drugcharacterization': '2', 'medicinalproduct': 'PYOSTACINE (PRISTINAMYCIN)'}, {'drugcharacterization': '2', 'medicinalproduct': 'ROCEPHIN'}, {'drugcharacterization': '2', 'openfda': {'product_ndc': ['55111-160', '55111-161', '60505-0560', '0404-7189', '55111-162', '64980-515', '75834-120', '11980-779', '69238-1616', '50383-025', '50383-024', '13985-602', '75834-112', '60505-0363', '68047-713', '59390-140', '75834-119', '75834-201', '75834-200', '24208-410', '71209-098', '71209-099', '24208-434', '75834-199', '17478-713', '71209-097'], 'package_ndc': ['13985-602-05', '55111-161-50', '64980-515-01', '17478-713-11', '17478-713-10', '55111-160-79', '50383-025-05', '55111-161-78', '55111-161-79', '55111-160-30', '71209-097-05', '71209-098-02', '59390-140-05', '75834-119-50', '71209-097-02', '55111-160-78', '50383-024-10', '75834-120-05', '24208-410-10', '75834-120-01', '75834-200-05', '0404-7189-01', '75834-112-01', '75834-199-05', '55111-162-50', '75834-201-50', '75834-112-05', '68047-713-01', '55111-161-01', '55111-161-05', '55111-162-78', '55111-162-30', '24208-434-05', '55111-162-01', '75834-201-05', '55111-160-01', '55111-162-05', '13985-602-10', '50383-025-10', '75834-119-05', '75834-119-01', '50383-024-05', '71209-099-05', '71209-098-10', '71209-099-02', '11980-779-05', '55111-160-50', '60505-0363-2', '75834-200-01', '71209-097-10', '60505-0363-1', '64980-515-05', '75834-200-50', '75834-201-01', '24208-434-10', '24208-410-05', '60505-0560-1', '60505-0560-0', '75834-120-50', '69238-1616-6', '75834-199-01', '75834-112-50', '75834-199-50', '55111-162-79', '55111-160-05', '55111-161-30', '71209-099-10', '71209-098-05'], 'generic_name': ['OFLOXACIN OTIC', 'OFLOXACIN', 'OFLOXAXIN'], 'spl_set_id': ['ef145ece-56d8-4dea-a136-ec462b335641', '8db221b1-32f3-f6ca-e404-71f56a860d08', '1d19a6db-6da5-e7de-f929-2d18bdfa2cf5', '6a3dcc79-bde4-4c32-8a0e-ea14a1e1a191', '7aab4449-3dda-4e2c-8e40-b3244a548bf5', '2ec6bd57-96df-47ac-b218-1469801868b7', '1779c568-d7bb-4bd5-bc29-13bd52ba8a0a', 'ee1bf431-97fa-4aba-9cc3-0cfcea779ca2', '7882f70e-d228-4c52-9390-0d927c51af1f', 'fe564e33-8f5d-4b57-87a9-7afae02eaf97', 'c76d8dc7-9a66-471b-814b-ef7f3605ec93', 'ad40954d-0b1d-47c5-8bd5-8a1efd9a7153', '8b73d354-4631-40e8-b187-e8b0580bd6ea', '5117d567-2004-c5ed-1391-f8831864696f', 'fcd7c5d7-42f4-4dcb-bc84-d976fafd5df4', 'c677b35c-0432-4ee5-af57-1f95449c48b6', 'c5484f1a-2321-453f-9469-dfcf709e2e2e', 'ba37e2a0-1bf7-41ca-bddd-35fcb77f87de'], 'brand_name': ['OFLOXACIN OTIC', 'OFLOXACIN OPHTHALMIC', 'OFLOXACIN', 'OCUFLOX'], 'manufacturer_name': ['Akorn, Inc.', 'Altaire Pharmaceuticals Inc.', \"Dr. Reddy's Laboratories Limited\", 'Hi-Tech Pharmacal Co., Inc.', 'Larken Laboratories, Inc.', 'Allergan, Inc.', 'Rising Pharmaceuticals, Inc.', 'Bausch & Lomb Incorporated', 'Apotex Corp.', 'Cadila Pharmaceuticals Limited', 'Amneal Pharmaceuticals NY LLC', 'Henry Schein Inc.', 'MWI', 'Nivagen Pharmaceuticals, Inc.'], 'unii': ['A4P49JAZ9H'], 'rxcui': ['207202', '312075', '198048', '198049', '198050', '242446'], 'spl_id': ['2d731281-5564-43ff-9889-07931fb2c555', '3e4a3dc8-8e55-cc6e-6fb1-3796147f4607', '84d7029b-f19a-4360-9fec-7a5e9282b7d7', '285d54dd-a0d8-44cf-b45b-287e708689d1', '3fc21b59-1737-4e42-8e35-98eb9256a4d3', '4662b8b1-2cfe-4472-bd5b-374737254a4f', '6467bdfc-698a-416e-97ed-f05c31b69063', '5e988471-3379-4f68-be87-172e7ca7ac99', '889d4bcc-0b25-f208-dea4-aedf75197224', '0095d1d6-d83e-4e22-aa61-3b4753f0753b', 'bd2baa03-a145-4320-b7ca-d63f6343e9d6', '8a21bee4-9f42-27bb-e053-2a95a90ada92', '8f54f003-e7c5-49d1-8369-15a1c38f4597', '0d187321-481b-4030-96b6-2df0bf5b0487', 'df580e2b-f6c3-4ae2-92ba-c8a0dd3fe993', 'c41b0332-f580-4927-8621-9af1452f8ac6', '10502b8b-1e97-4767-9f1b-1e06d435b5f1', '48a41c0b-59f7-ef15-7639-30323f6d631b'], 'substance_name': ['OFLOXACIN'], 'product_type': ['HUMAN PRESCRIPTION DRUG'], 'route': ['AURICULAR (OTIC)', 'ORAL', 'OPHTHALMIC'], 'application_number': ['ANDA076407', 'NDA019921', 'ANDA091656', 'ANDA076128', 'ANDA076527', 'ANDA211525', 'ANDA076622', 'ANDA076513', 'ANDA076616', 'ANDA202692', 'ANDA078559', 'ANDA076615', 'ANDA076093', 'ANDA077098']}, 'medicinalproduct': 'OFLOXACIN'}]}, 'seriousnesshospitalization': '1', 'transmissiondate': '20041129', 'serious': '1', 'receiptdate': '20040315'}\n",
      "{'receiptdateformat': '102', 'receiver': None, 'seriousnessdeath': '1', 'companynumb': 'JACAN16471', 'receivedateformat': '102', 'primarysource': {'qualification': '3', 'reportercountry': 'CANADA'}, 'transmissiondateformat': '102', 'fulfillexpeditecriteria': '1', 'safetyreportid': '5801206-7', 'sender': {'senderorganization': 'FDA-Public Use'}, 'receivedate': '20080707', 'patient': {'patientonsetage': '26', 'patientdeath': {'patientdeathdate': None, 'patientdeathdateformat': None}, 'reaction': [{'reactionmeddrapt': 'DRUG ADMINISTRATION ERROR'}, {'reactionmeddrapt': 'OVERDOSE'}], 'patientonsetageunit': '801', 'patientsex': '1', 'drug': [{'drugindication': 'DRUG ABUSE', 'drugadministrationroute': '041', 'drugcharacterization': '1', 'drugauthorizationnumb': '019813', 'medicinalproduct': 'DURAGESIC-100'}]}, 'transmissiondate': '20090109', 'serious': '1', 'receiptdate': '20080625'}\n"
     ]
    }
   ],
   "source": [
    "import requests\n",
    "\n",
    "URL = 'https://api.fda.gov/drug/event.json?limit=2'#search=receivedate:[20040101+TO+20160601]&count=receivedate'\n",
    "\n",
    "data = requests.get(URL).json()\n",
    "\n",
    "for result in data.get('results', []):\n",
    "  print(result)"
   ]
  },
  {
   "cell_type": "code",
   "execution_count": 3,
   "metadata": {
    "nteract": {
     "transient": {
      "deleting": false
     }
    },
    "outputExpanded": false
   },
   "outputs": [],
   "source": [
    "import requests\n",
    "\n",
    "URL = 'https://api.fda.gov/drug/event.json?limit=11512820&skip=100'\n",
    "\n",
    "data = requests.get(URL).json()\n",
    "\n"
   ]
  },
  {
   "cell_type": "code",
   "execution_count": 4,
   "metadata": {
    "nteract": {
     "transient": {
      "deleting": false
     }
    },
    "outputExpanded": false
   },
   "outputs": [
    {
     "data": {
      "text/plain": [
       "{'error': {'code': 'BAD_REQUEST',\n",
       "  'message': 'Limit cannot exceed 100 results for search requests. Use the skip param to get additional results.'}}"
      ]
     },
     "execution_count": 4,
     "metadata": {},
     "output_type": "execute_result"
    }
   ],
   "source": [
    "data"
   ]
  },
  {
   "cell_type": "code",
   "execution_count": null,
   "metadata": {
    "collapsed": true,
    "jupyter": {
     "outputs_hidden": true,
     "source_hidden": false
    },
    "nteract": {
     "transient": {
      "deleting": false
     }
    },
    "outputExpanded": false
   },
   "outputs": [],
   "source": []
  },
  {
   "cell_type": "code",
   "execution_count": null,
   "metadata": {
    "collapsed": true,
    "jupyter": {
     "outputs_hidden": true,
     "source_hidden": false
    },
    "nteract": {
     "transient": {
      "deleting": false
     }
    },
    "outputExpanded": false
   },
   "outputs": [],
   "source": []
  }
 ],
 "metadata": {
  "kernel_info": {
   "name": "python3"
  },
  "kernelspec": {
   "display_name": "Python 3",
   "language": "python",
   "name": "python3"
  },
  "language_info": {
   "codemirror_mode": {
    "name": "ipython",
    "version": 3
   },
   "file_extension": ".py",
   "mimetype": "text/x-python",
   "name": "python",
   "nbconvert_exporter": "python",
   "pygments_lexer": "ipython3",
   "version": "3.7.6"
  },
  "nteract": {
   "version": "0.23.1"
  }
 },
 "nbformat": 4,
 "nbformat_minor": 4
}
