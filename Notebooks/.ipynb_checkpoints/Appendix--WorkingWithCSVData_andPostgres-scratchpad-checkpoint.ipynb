{
 "cells": [
  {
   "cell_type": "code",
   "execution_count": null,
   "metadata": {},
   "outputs": [],
   "source": [
    "import pandas as pd\n",
    "import psycopg2\n",
    "from sqlalchemy import *\n",
    "\n",
    "metadata = MetaData()\n",
    "\n",
    "\n",
    "data_dir = '/Local/Users/bhima/temp/fda-case-study/Data/CSV'\n",
    "notebook_dir = '/Local/Users/bhima/temp/fda-case-study/Data/'\n",
    "report_DIR = '/Local/Users/bhima/temp/fda-case-study/Report/'"
   ]
  },
  {
   "cell_type": "code",
   "execution_count": null,
   "metadata": {},
   "outputs": [],
   "source": [
    "connection = psycopg2.connect(\n",
    "    host=\"localhost\",\n",
    "    database=\"openfda\",\n",
    "    user=\"bhima\",\n",
    ")\n",
    "connection.autocommit = True\n",
    "cursor = connection.cursor()"
   ]
  },
  {
   "cell_type": "code",
   "execution_count": null,
   "metadata": {},
   "outputs": [],
   "source": [
    "sqlalchemy."
   ]
  },
  {
   "cell_type": "code",
   "execution_count": null,
   "metadata": {
    "scrolled": true
   },
   "outputs": [],
   "source": [
    "!ls ../Data/CSV/*drug.csv"
   ]
  },
  {
   "cell_type": "code",
   "execution_count": null,
   "metadata": {},
   "outputs": [],
   "source": [
    "df = pd.read_csv(\"../Data/CSV/2004q1_drug-event-0001-of-0001.json.drug.csv\")"
   ]
  },
  {
   "cell_type": "code",
   "execution_count": null,
   "metadata": {},
   "outputs": [],
   "source": [
    "col_info = dict(df.dtypes)\n",
    "for k in col_info:\n",
    "    \n",
    "    if col_info[k] == 'object':\n",
    "        print(k.upper(), 'CHAR')\n",
    "    else:\n",
    "        col_type = str(col_info[k]).upper()\n",
    "        print(k.upper(), col_type)\n",
    "    "
   ]
  },
  {
   "cell_type": "code",
   "execution_count": null,
   "metadata": {
    "scrolled": false
   },
   "outputs": [],
   "source": [
    "x = df.columns.to_list()"
   ]
  },
  {
   "cell_type": "code",
   "execution_count": null,
   "metadata": {},
   "outputs": [],
   "source": [
    "x"
   ]
  },
  {
   "cell_type": "code",
   "execution_count": null,
   "metadata": {},
   "outputs": [],
   "source": [
    "connection"
   ]
  },
  {
   "cell_type": "code",
   "execution_count": null,
   "metadata": {},
   "outputs": [],
   "source": [
    "help(psycopg2)"
   ]
  },
  {
   "cell_type": "code",
   "execution_count": null,
   "metadata": {},
   "outputs": [],
   "source": [
    "from pandas_to_postgres import (\n",
    "    DataFrameCopy,\n",
    "    hdf_to_postgres,\n",
    ")\n"
   ]
  },
  {
   "cell_type": "code",
   "execution_count": null,
   "metadata": {},
   "outputs": [],
   "source": [
    "import sqlalchemy.db"
   ]
  },
  {
   "cell_type": "code",
   "execution_count": null,
   "metadata": {},
   "outputs": [],
   "source": [
    "help(db)"
   ]
  },
  {
   "cell_type": "code",
   "execution_count": null,
   "metadata": {},
   "outputs": [],
   "source": [
    "from pandas_to_postgres import (\n",
    "    DataFrameCopy,\n",
    "    hdf_to_postgres,\n",
    ")\n",
    "\n",
    "table_model = metadata.tables['drugs']\n",
    "\n",
    "# already loaded DataFrame & SQLAlchemy Table model\n",
    "#with db.engine.connect() as c:\n",
    "DataFrameCopy(df, conn=connection, table_obj=table_model).copy()\n",
    "\n",
    "# HDF from file\n",
    "#hdf_to_postgres('./data.h5', engine_args=[\"psycopg://...\"])\n",
    "\n",
    "# Parallel HDF from file\n",
    "#hdf_to_postgres('./data.h5', engine_args=[\"psycopg://...\"], processes=4)"
   ]
  },
  {
   "cell_type": "code",
   "execution_count": 5,
   "metadata": {},
   "outputs": [],
   "source": [
    "from sqlalchemy import create_engine, MetaData\n",
    "import sqlalchemy\n",
    "import psycopg2 as pg\n",
    "\n",
    "address = 'postgresql://bhima:@localhost:5432/openfda'\n",
    "engine = create_engine(address)\n",
    "connection = engine.raw_connection()\n",
    "cursor = connection.cursor()"
   ]
  },
  {
   "cell_type": "code",
   "execution_count": 6,
   "metadata": {},
   "outputs": [],
   "source": [
    "engine."
   ]
  },
  {
   "cell_type": "code",
   "execution_count": null,
   "metadata": {},
   "outputs": [],
   "source": [
    "from sqlalchemy import create_engine\n",
    "import psycopg2 as pg\n",
    "#load python script that batch loads pandas df to sql\n",
    "import cStringIO\n",
    "\n",
    "address = 'postgresql://<username>:<pswd>@<host>:<port>/<database>'\n",
    "engine = create_engine(address)\n",
    "connection = engine.raw_connection()\n",
    "cursor = connection.cursor()\n",
    "\n",
    "#df is the dataframe containing an index and the columns \"Event\" and \"Day\"\n",
    "#create Index column to use as primary key\n",
    "df.reset_index(inplace=True)\n",
    "df.rename(columns={'index':'Index'}, inplace =True)\n",
    "\n",
    "#create the table but first drop if it already exists\n",
    "command = '''DROP TABLE IF EXISTS localytics_app2;\n",
    "CREATE TABLE localytics_app2\n",
    "(\n",
    "\"Index\" serial primary key,\n",
    "\"Event\" text,\n",
    "\"Day\" timestamp without time zone,\n",
    ");'''\n",
    "cursor.execute(command)\n",
    "connection.commit()\n",
    "\n",
    "#stream the data using 'to_csv' and StringIO(); then use sql's 'copy_from' function\n",
    "output = cStringIO.StringIO()\n",
    "#ignore the index\n",
    "df.to_csv(output, sep='\\t', header=False, index=False)\n",
    "#jump to start of stream\n",
    "output.seek(0)\n",
    "contents = output.getvalue()\n",
    "cur = connection.cursor()\n",
    "#null values become ''\n",
    "cur.copy_from(output, 'localytics_app2', null=\"\")    \n",
    "connection.commit()\n",
    "cur.close()"
   ]
  }
 ],
 "metadata": {
  "kernelspec": {
   "display_name": "Python 3",
   "language": "python",
   "name": "python3"
  },
  "language_info": {
   "codemirror_mode": {
    "name": "ipython",
    "version": 3
   },
   "file_extension": ".py",
   "mimetype": "text/x-python",
   "name": "python",
   "nbconvert_exporter": "python",
   "pygments_lexer": "ipython3",
   "version": "3.7.6"
  }
 },
 "nbformat": 4,
 "nbformat_minor": 4
}
