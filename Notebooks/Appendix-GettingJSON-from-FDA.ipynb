{
 "cells": [
  {
   "cell_type": "code",
   "execution_count": 1,
   "metadata": {},
   "outputs": [],
   "source": [
    "import requests, zipfile, io\n",
    "\n",
    "data_dir = '/Local/Users/bhima/temp/fda-case-study/Data'\n",
    "notebook_dir = '/Local/Users/bhima/temp/fda-case-study/Data'\n",
    "report_DIR = '/Local/Users/bhima/temp/fda-case-study/Report'"
   ]
  },
  {
   "cell_type": "code",
   "execution_count": 10,
   "metadata": {},
   "outputs": [],
   "source": [
    "def get_FDA_data(local_data_location):\n",
    "\n",
    "    i = 30\n",
    "    while i <=34:\n",
    "        if i <= 9:\n",
    "            zip_file_url = \"https://download.open.fda.gov/drug/event/2019q4/drug-event-000\"+str(i)+\"-of-0034.json.zip\"\n",
    "        if i > 9:\n",
    "            zip_file_url = \"https://download.open.fda.gov/drug/event/2019q4/drug-event-00\"+str(i)+\"-of-0034.json.zip\"\n",
    "            \n",
    "        r = requests.get(zip_file_url)\n",
    "        z = zipfile.ZipFile(io.BytesIO(r.content))\n",
    "        z.extractall(local_data_location)\n",
    "        i += 1\n",
    "        "
   ]
  },
  {
   "cell_type": "code",
   "execution_count": 11,
   "metadata": {},
   "outputs": [],
   "source": [
    "get_FDA_data(data_dir)"
   ]
  },
  {
   "cell_type": "code",
   "execution_count": null,
   "metadata": {},
   "outputs": [],
   "source": []
  },
  {
   "cell_type": "code",
   "execution_count": null,
   "metadata": {},
   "outputs": [],
   "source": []
  }
 ],
 "metadata": {
  "kernelspec": {
   "display_name": "Python 3",
   "language": "python",
   "name": "python3"
  },
  "language_info": {
   "codemirror_mode": {
    "name": "ipython",
    "version": 3
   },
   "file_extension": ".py",
   "mimetype": "text/x-python",
   "name": "python",
   "nbconvert_exporter": "python",
   "pygments_lexer": "ipython3",
   "version": "3.7.6"
  }
 },
 "nbformat": 4,
 "nbformat_minor": 4
}
